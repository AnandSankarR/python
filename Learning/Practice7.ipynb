{
 "cells": [
  {
   "cell_type": "markdown",
   "metadata": {},
   "source": [
    "## Nested Conditionals"
   ]
  },
  {
   "cell_type": "markdown",
   "metadata": {},
   "source": [
    "# &nbsp;\n",
    "<font size=\"6\" color=\"#B24C00\"  face=\"verdana\"> <B>Tasks</B></font> "
   ]
  },
  {
   "cell_type": "code",
   "execution_count": 3,
   "metadata": {},
   "outputs": [
    {
     "name": "stdout",
     "output_type": "stream",
     "text": [
      "the new line character is  \"\\n\"\n"
     ]
    }
   ],
   "source": [
    "# [ ] print a string that outputs the following exactly: The new line character is \"\\n\"\n",
    "print(\"the new line character is  \\\"\\\\n\\\"\")\n"
   ]
  },
  {
   "cell_type": "code",
   "execution_count": 4,
   "metadata": {},
   "outputs": [
    {
     "name": "stdout",
     "output_type": "stream",
     "text": [
      "\"That's how we escape!\"\n"
     ]
    }
   ],
   "source": [
    "# [ ] print output that is exactly (with quotes): \"That's how we escape!\"\n",
    "print(\"\\\"That\\'s how we escape!\\\"\")\n"
   ]
  },
  {
   "cell_type": "code",
   "execution_count": 11,
   "metadata": {},
   "outputs": [
    {
     "name": "stdout",
     "output_type": "stream",
     "text": [
      "1   one \n",
      "22  two \n",
      "333 three\n"
     ]
    }
   ],
   "source": [
    "# [ ] with only 1 print statement and using No Space Characters, output the text commented below  \n",
    "\n",
    "# 1       one\n",
    "# 22      two\n",
    "# 333     three\n",
    "print(\"1   one \\n22  two \\n333 three\")\n"
   ]
  },
  {
   "cell_type": "code",
   "execution_count": 12,
   "metadata": {},
   "outputs": [
    {
     "name": "stdout",
     "output_type": "stream",
     "text": [
      "\\\\\\\\\n"
     ]
    }
   ],
   "source": [
    " print(\"\\\\\\\\\\\\\\\\\")"
   ]
  },
  {
   "cell_type": "markdown",
   "metadata": {},
   "source": [
    "# &nbsp;\n",
    "## Program: quote_me() Function "
   ]
  },
  {
   "cell_type": "code",
   "execution_count": 1,
   "metadata": {},
   "outputs": [
    {
     "name": "stdout",
     "output_type": "stream",
     "text": [
      "Enter the String : Anand\n",
      "\" Anand \"\n",
      "program completed\n"
     ]
    }
   ],
   "source": [
    "# [ ] create and test quote_me()\n",
    "def quote_me(string):\n",
    "    if string.startswith(\"\\\"\"):\n",
    "        print(\"\\'\" ,string, \"\\'\")\n",
    "    elif string.startswith(\"\\'\"):\n",
    "        print(\"\\\"\" ,string, \"\\\"\")\n",
    "    else:\n",
    "        print(\"\\\"\" ,string, \"\\\"\")\n",
    "    return \"program completed\"\n",
    "print(quote_me(input(\"Enter the String : \")))\n",
    "\n"
   ]
  },
  {
   "cell_type": "markdown",
   "metadata": {},
   "source": [
    "# &nbsp;\n",
    "### Program: shirt order "
   ]
  },
  {
   "cell_type": "code",
   "execution_count": 2,
   "metadata": {},
   "outputs": [
    {
     "name": "stdout",
     "output_type": "stream",
     "text": [
      "Enter your Color (w) White / (b) Blue :white\n",
      "Enter the required sizes (s)Small /(m) Medium /(l) Large : small\n",
      "white Color small Size not Available\n"
     ]
    }
   ],
   "source": [
    "# [ ] create shirt order using nested if \n",
    "\n",
    "color = input(\"Enter your Color (w) White / (b) Blue :\")\n",
    "size = input(\"Enter the required sizes (s)Small /(m) Medium /(l) Large : \")\n",
    "\n",
    "if color == \"w\" and size == \"l\" or color == \"w\" and size == \"m\":\n",
    "    \n",
    "    print(color,\"Color\",size,\"Size Combo Available\")\n",
    "elif color == \"b\" and size == \"m\" or color == \"b\" and size == \"s\":\n",
    "    print(color,\"Color\",size,\"Size Combo Available\")\n",
    "else:\n",
    "    print(color,\"Color\",size,\"Size not Available\")\n"
   ]
  },
  {
   "cell_type": "code",
   "execution_count": 3,
   "metadata": {},
   "outputs": [
    {
     "name": "stdout",
     "output_type": "stream",
     "text": [
      "Enter your Color (w) White / (b) Blue :white\n",
      "Enter the required sizes (s)Small /(m) Medium /(l) Large : medium\n",
      "\"available = True\"\n",
      "white Color medium Size Ordered\n"
     ]
    }
   ],
   "source": [
    "available = False\n",
    "color = input(\"Enter your Color (w) White / (b) Blue :\")\n",
    "size = input(\"Enter the required sizes (s)Small /(m) Medium /(l) Large : \")\n",
    "if color == \"white\":\n",
    "    if size == \"large\" or size == \"medium\":\n",
    "        print(\"\\\"available = True\\\"\")\n",
    "        print(color,\"Color\",size,\"Size Ordered\")\n",
    "    elif size == \"small\":\n",
    "        print(color,\"Color\",size,\"Size not Ordered\")\n",
    "    else:\n",
    "        print(\"Not available\")\n",
    "elif color == \"blue\":\n",
    "        if size == \"medium\" or size == \"small\":\n",
    "            print(\"\\\"available = True\\\"\")\n",
    "            print(color,\"Color\",size,\"Size Ordered\")\n",
    "        elif size == \"large\":\n",
    "            print(color,\"Color\",size,\"Size not Ordered\")\n",
    "        else:\n",
    "            print(\"Not Available\")\n",
    "else:\n",
    "    print(\"Not Available\")"
   ]
  },
  {
   "cell_type": "markdown",
   "metadata": {},
   "source": [
    "# &nbsp;\n",
    "## Program: str_analysis() Function "
   ]
  },
  {
   "cell_type": "code",
   "execution_count": 6,
   "metadata": {},
   "outputs": [
    {
     "name": "stdout",
     "output_type": "stream",
     "text": [
      "Enter the input for analysis: a\n",
      "All alpha\n",
      "None\n"
     ]
    }
   ],
   "source": [
    "# [ ] create and test str_analysis()\n",
    "\n",
    "def str_analysis(string):\n",
    "    if string.isdigit() ==  True:\n",
    "        string = int(string)\n",
    "        if string > 99:\n",
    "            print(\"big number\")\n",
    "        else:\n",
    "            print(\"small number\")\n",
    "    else:\n",
    "        if string.isalpha() == True:\n",
    "            print(\"All alpha\")\n",
    "        else:\n",
    "            string = False\n",
    "            print(\"Neither Alpha and not Digit\")\n",
    "\n",
    "print(str_analysis(input(\"Enter the input for analysis: \")))\n"
   ]
  },
  {
   "cell_type": "markdown",
   "metadata": {
    "collapsed": true
   },
   "source": [
    "# &nbsp;  \n",
    "### Program: ticket_check()"
   ]
  },
  {
   "cell_type": "code",
   "execution_count": 11,
   "metadata": {},
   "outputs": [
    {
     "name": "stdout",
     "output_type": "stream",
     "text": [
      "Enter the Section you want General / Floor: general\n",
      "Enter the Seats you want: 1-108\n",
      "General and Seats True\n",
      "Task Completed\n"
     ]
    }
   ],
   "source": [
    "# [ ] create and call ticket_check()\n",
    "\n",
    "def ticket_check(section,seats):\n",
    "    if section.startswith(\"g\"):\n",
    "        if seats >= 1 and seats <=10:\n",
    "            print(\"General and Seats True\")\n",
    "        else:\n",
    "            print(\"General and Seats False\")\n",
    "    else:\n",
    "        if section.startswith(\"f\"):\n",
    "            if seats >= 1 and seats <= 4:\n",
    "                print(\"Floor and Seats True\")\n",
    "            else:\n",
    "                print(\"Floor and Seats False\")\n",
    "        else:\n",
    "            Print(\"Wrong Selection\")\n",
    "    return \"Task Completed\"\n",
    "\n",
    "print(ticket_check(input(\"Enter the Section you want General / Floor: \").lower(),int(input(\"Enter the Seats you want: 1-10\"))))\n",
    "\n"
   ]
  },
  {
   "cell_type": "markdown",
   "metadata": {
    "collapsed": true
   },
   "source": []
  }
 ],
 "metadata": {
  "anaconda-cloud": {},
  "kernelspec": {
   "display_name": "Python 3",
   "language": "python",
   "name": "python3"
  },
  "language_info": {
   "codemirror_mode": {
    "name": "ipython",
    "version": 3
   },
   "file_extension": ".py",
   "mimetype": "text/x-python",
   "name": "python",
   "nbconvert_exporter": "python",
   "pygments_lexer": "ipython3",
   "version": "3.6.5"
  }
 },
 "nbformat": 4,
 "nbformat_minor": 1
}
