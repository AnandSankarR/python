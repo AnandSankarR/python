{
 "cells": [
  {
   "cell_type": "markdown",
   "metadata": {},
   "source": [
    "## Conditionals "
   ]
  },
  {
   "cell_type": "markdown",
   "metadata": {},
   "source": [
    "## `if else`\n"
   ]
  },
  {
   "cell_type": "code",
   "execution_count": 11,
   "metadata": {},
   "outputs": [
    {
     "name": "stdout",
     "output_type": "stream",
     "text": [
      "Enter age in digit: 12\n",
      "age in 10 years\n"
     ]
    }
   ],
   "source": [
    "# [ ] input avariable: age as digit and cast to int\n",
    "# if age greater than or equal to 12 then print message on age in 10 years \n",
    "# or else print message \"It is good to be\" age\n",
    "age = int(input(\"Enter age in digit: \"))\n",
    "if age >= 12 :\n",
    "          print(\"age in 10 years\")\n",
    "else:\n",
    "          print(\"its good to be\")\n",
    "          \n",
    "        \n",
    "\n",
    "\n"
   ]
  },
  {
   "cell_type": "code",
   "execution_count": null,
   "metadata": {},
   "outputs": [],
   "source": [
    "# [ ] input a number \n",
    "# if number IS a digit string then cast to int\n",
    "# print number \"greater than 100 is\" True/False\n",
    "# if number is NOT a digit string then message the user that \"only int is accepted\"\n",
    "number = input(\"Enter a number: \")\n",
    "if number.isdigit() == True:\n",
    "    number = int(number)\n",
    "    if number > 100:\n",
    "        print(\"greater than 100 is \", number > 100)\n",
    "    elif number < 100:\n",
    "        print(\"greater than 100 is \", number > 100)\n",
    "    else:\n",
    "        pass\n",
    "else:\n",
    "    print(\"only int is accepted\")"
   ]
  },
  {
   "cell_type": "markdown",
   "metadata": {},
   "source": [
    "### Guessing a letter A-Z  "
   ]
  },
  {
   "cell_type": "code",
   "execution_count": 5,
   "metadata": {},
   "outputs": [
    {
     "name": "stdout",
     "output_type": "stream",
     "text": [
      "Guess a Letter A - Z: 1\n",
      "lower False\n"
     ]
    }
   ],
   "source": [
    "# [ ] create check_guess()\n",
    "# call with test\n",
    "letter = \"J\"\n",
    "guess = input(\"Guess a Letter A - Z: \").upper()\n",
    "def check_guess():\n",
    "    if guess == letter :\n",
    "        print(\"Correct\",guess == letter)\n",
    "    elif guess > letter:\n",
    "        print(\"greater\",guess < letter)\n",
    "    elif guess < letter:\n",
    "        print(\"lower\",guess > letter)\n",
    "    else:\n",
    "        print(\"is not a valid guess\")\n",
    "    return \n",
    "check_guess()"
   ]
  },
  {
   "cell_type": "code",
   "execution_count": 15,
   "metadata": {},
   "outputs": [
    {
     "name": "stdout",
     "output_type": "stream",
     "text": [
      "enter the guess: j\n",
      "Check Guess is greater and  False\n",
      "('j', 'J')\n"
     ]
    }
   ],
   "source": [
    "# [ ] call check_guess with user input\n",
    "letter = \"J\"\n",
    "\n",
    "def check_guess(guess):\n",
    "    if guess == letter :\n",
    "        print(\"Check Guess equals\",guess == letter)\n",
    "    elif guess > letter:\n",
    "        print(\"Check Guess is greater and \",guess < letter)\n",
    "    elif guess < letter:\n",
    "        print(\"Check Guess is lower and \",guess > letter)\n",
    "    else:\n",
    "        print(\" It is not a valid guess\")\n",
    "    return guess,letter\n",
    "print(check_guess(input(\"enter the guess: \")))\n",
    "\n"
   ]
  },
  {
   "cell_type": "markdown",
   "metadata": {},
   "source": [
    "### Letter Guess"
   ]
  },
  {
   "cell_type": "code",
   "execution_count": 24,
   "metadata": {},
   "outputs": [
    {
     "name": "stdout",
     "output_type": "stream",
     "text": [
      "enter guess 1 :f\n",
      "enter guess 2 :d\n",
      "enter guess 3 :g\n",
      "all 3 failed attempts\n"
     ]
    }
   ],
   "source": [
    "# [ ] create letter_guess() function, call the function to test\n",
    "letter = \"H\"\n",
    "\n",
    "def check_guess(guess):\n",
    "    if guess == letter :\n",
    "        print(\"Check Guess equals\",guess == letter)\n",
    "    elif guess > letter:\n",
    "        print(\"Check Guess is greater and \",guess < letter)\n",
    "    elif guess < letter:\n",
    "        print(\"Check Guess is lower and \",guess > letter)\n",
    "    else:\n",
    "        print(\" It is not a valid guess\")\n",
    "    return guess,letter\n",
    "\n",
    "def letter_guess(a,b,c):\n",
    "    if a == letter:\n",
    "        check_guess(a)\n",
    "        print(\"guess 1 is\",a==letter)\n",
    "        \n",
    "    elif b == letter:\n",
    "        check_guess(b)\n",
    "        print(\" guess 2 is\",b==letter)\n",
    "        \n",
    "    elif c == letter:\n",
    "        check_guess(c)\n",
    "        print(\" guess 3 is\",c==letter)\n",
    "        \n",
    "    else:\n",
    "        print(\"all 3 failed attempts\")\n",
    "    \n",
    "    return \n",
    "letter_guess(input(\"enter guess 1 :\").upper(),input(\"enter guess 2 :\").upper(),input(\"enter guess 3 :\").upper())\n"
   ]
  },
  {
   "cell_type": "markdown",
   "metadata": {},
   "source": [
    "### Pet Conversation\n",
    "**ask the user for a sentence about a pet and then reply**  \n",
    "- get user input in variable: about_pet\n",
    "- using a series of **if** statements respond with appropriate conversation\n",
    "  - check if \"dog\" is in the string about_pet (sample reply \"Ah, a dog\")\n",
    "  - check if \"cat\" is in the string about_pet\n",
    "  - check if 1 or more animal is in string about_pet\n",
    "- no need for **else**'s\n",
    "- finish with thanking for the story"
   ]
  },
  {
   "cell_type": "code",
   "execution_count": 25,
   "metadata": {},
   "outputs": [
    {
     "name": "stdout",
     "output_type": "stream",
     "text": [
      "Enter conversation statementdog,cat,parrot\n",
      "Ah, a dog\n",
      "Ah, a cat\n",
      "Ah, a parrot\n",
      "Thanking for the story\n"
     ]
    }
   ],
   "source": [
    "# [ ] complete pet conversation\n",
    "about_pet = input(\"Enter conversation statement\")\n",
    "if \"dog\" in about_pet:\n",
    "    print(\"Ah, a dog\")\n",
    "if \"cat\" in about_pet:\n",
    "    print(\"Ah, a cat\")\n",
    "if \"parrot\" in about_pet:\n",
    "    print(\"Ah, a parrot\")\n",
    "    \n",
    "print(\"Thanking for the story\")\n",
    "    \n",
    "\n"
   ]
  },
  {
   "cell_type": "markdown",
   "metadata": {
    "collapsed": true
   },
   "source": []
  }
 ],
 "metadata": {
  "anaconda-cloud": {},
  "kernelspec": {
   "display_name": "Python 3",
   "language": "python",
   "name": "python3"
  },
  "language_info": {
   "codemirror_mode": {
    "name": "ipython",
    "version": 3
   },
   "file_extension": ".py",
   "mimetype": "text/x-python",
   "name": "python",
   "nbconvert_exporter": "python",
   "pygments_lexer": "ipython3",
   "version": "3.6.5"
  }
 },
 "nbformat": 4,
 "nbformat_minor": 1
}
