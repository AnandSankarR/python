{
 "cells": [
  {
   "cell_type": "markdown",
   "metadata": {},
   "source": [
    "# Practice 1"
   ]
  },
  {
   "cell_type": "code",
   "execution_count": null,
   "metadata": {},
   "outputs": [],
   "source": [
    "# [ ] use a \"forever\" while loop to get user input of integers to add to sum, \n",
    "# until a non-digit is entered, then break the loop and print sum\n",
    "sum = 0\n",
    "inp = \"0\"\n",
    "while inp.isdigit():\n",
    "    sum += int(inp)\n",
    "    inp = input(\"Enter the integer digit: \")\n",
    "    \n",
    "    \n",
    "print(\"Total Sum:\",sum)"
   ]
  },
  {
   "cell_type": "markdown",
   "metadata": {},
   "source": [
    "### [ ] use a while True loop (forever loop) to give 4 chances for input of a correct color in a rainbow\n",
    "# rainbow = \"red orange yellow green blue indigo violet\"\n",
    "\n"
   ]
  },
  {
   "cell_type": "code",
   "execution_count": 1,
   "metadata": {},
   "outputs": [
    {
     "name": "stdout",
     "output_type": "stream",
     "text": [
      "Enter the correct color in rainbow: red\n",
      "correct color in 0 attempt\n"
     ]
    }
   ],
   "source": [
    "rainbow = \"red orange yellow green blue indigo violet\"\n",
    "count = 0\n",
    "while True:\n",
    "    chance = input(\"Enter the correct color in rainbow: \").lower()\n",
    "    if count < 4:\n",
    "        if chance in rainbow:\n",
    "            print(\"correct color in\",count,\"attempt\")\n",
    "            break\n",
    "        else:\n",
    "            print(\"Wrong color\")\n",
    "            count += 1\n",
    "            \n",
    "    else:\n",
    "        print(\"Chances Exhausted\")\n",
    "        break\n",
    "        "
   ]
  },
  {
   "cell_type": "code",
   "execution_count": 2,
   "metadata": {},
   "outputs": [
    {
     "name": "stdout",
     "output_type": "stream",
     "text": [
      "Enter book title?: book\n",
      "Enter book title?: Book\n"
     ]
    }
   ],
   "source": [
    "# [ ] Get input for a book title, keep looping while input is Not in title format (title is every word capitalized)\n",
    "book_title = \"\"\n",
    "while True:\n",
    "    if book_title.istitle() == False:\n",
    "        book_title = input(\"Enter book title?: \")\n",
    "    else:\n",
    "        break\n"
   ]
  },
  {
   "cell_type": "code",
   "execution_count": 4,
   "metadata": {},
   "outputs": [],
   "source": [
    "# [ ] create a math quiz question and ask for the solution until the input is correct  "
   ]
  },
  {
   "cell_type": "markdown",
   "metadata": {},
   "source": [
    "### Fix the Error"
   ]
  },
  {
   "cell_type": "code",
   "execution_count": null,
   "metadata": {},
   "outputs": [],
   "source": [
    "# [ ] review the code, run, fix the error\n",
    "tickets = input(\"enter tickets remaining (0 to quit): \")\n",
    "\n",
    "while int(tickets) > 0:\n",
    "# if tickets are multiple of 3 then \"winner\"\n",
    "    if int((int(tickets)/3)) == (int(tickets)/3):\n",
    "        print(\"you win!\")\n",
    "    else:\n",
    "        print(\"sorry, not a winner.\")\n",
    "    tickets = int(input(\"enter tickets remaining (0 to quits): \"))\n",
    "\n",
    "print(\"Game ended\")"
   ]
  },
  {
   "cell_type": "markdown",
   "metadata": {},
   "source": [
    "### create a function: quiz_item()  that asks a question and tests if input is correct  "
   ]
  },
  {
   "cell_type": "code",
   "execution_count": 1,
   "metadata": {},
   "outputs": [
    {
     "name": "stdout",
     "output_type": "stream",
     "text": [
      "what is 4* 4?:12\n",
      "what is 4* 4?:16\n"
     ]
    }
   ],
   "source": [
    "# Create quiz_item() and 2 or more quiz questions that call quiz_item()\n",
    "solution = 0\n",
    "def quiz_item(solution):\n",
    "    while True:\n",
    "        answer = 4 * 4\n",
    "        if answer == int(solution):\n",
    "            break\n",
    "        else:\n",
    "            solution = input(\"what is 4* 4?:\")\n",
    "quiz_item(solution)"
   ]
  }
 ],
 "metadata": {
  "anaconda-cloud": {},
  "kernelspec": {
   "display_name": "Python 3.6",
   "language": "python",
   "name": "python36"
  },
  "language_info": {
   "codemirror_mode": {
    "name": "ipython",
    "version": 3
   },
   "file_extension": ".py",
   "mimetype": "text/x-python",
   "name": "python",
   "nbconvert_exporter": "python",
   "pygments_lexer": "ipython3",
   "version": "3.6.3"
  }
 },
 "nbformat": 4,
 "nbformat_minor": 1
}
