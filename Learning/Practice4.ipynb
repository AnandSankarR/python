{
 "cells": [
  {
   "cell_type": "markdown",
   "metadata": {},
   "source": [
    "## Functions Arguments & Parameters"
   ]
  },
  {
   "cell_type": "markdown",
   "metadata": {},
   "source": [
    "## &nbsp;\n",
    "<font size=\"6\" color=\"#B24C00\"  face=\"verdana\"> <B>Tasks</B></font>"
   ]
  },
  {
   "cell_type": "code",
   "execution_count": 4,
   "metadata": {},
   "outputs": [
    {
     "name": "stdout",
     "output_type": "stream",
     "text": [
      "Enter line1:Rain Rain \n",
      "Enter line2:Go Away\n",
      "Rain Rain  Go Away\n"
     ]
    }
   ],
   "source": [
    "# [ ] define and call a function short_rhyme() that prints a 2 line rhyme\n",
    "def short_rhyme(line1,line2):\n",
    "        rhyme = line1 +\" \"+ line2\n",
    "        return rhyme\n",
    "line1 = input(\"Enter line1:\")\n",
    "line2 = input(\"Enter line2:\")\n",
    "\n",
    "\n",
    "print(short_rhyme(line1,line2))\n"
   ]
  },
  {
   "cell_type": "code",
   "execution_count": 5,
   "metadata": {},
   "outputs": [
    {
     "name": "stdout",
     "output_type": "stream",
     "text": [
      "Msg\n"
     ]
    }
   ],
   "source": [
    "# [ ] define (def) a simple function: title_it() and call the function\n",
    "# - has a string parameter: msg\n",
    "# - prints msg in Title Case\n",
    "def title_it(title):\n",
    "    return title.title()\n",
    "title =\"msg\"\n",
    "print(title_it(title))"
   ]
  },
  {
   "cell_type": "code",
   "execution_count": 6,
   "metadata": {},
   "outputs": [
    {
     "name": "stdout",
     "output_type": "stream",
     "text": [
      "What is the title?:Hobbee's\n",
      "Hobbee's\n"
     ]
    }
   ],
   "source": [
    "# [ ] get user input with prompt \"what is the title?\" \n",
    "# [ ] call title_it() using input for the string argument\n",
    "user_i = input(\"What is the title?:\")\n",
    "def title_it(i):\n",
    "    return i\n",
    "print(title_it(user_i))\n",
    "\n"
   ]
  },
  {
   "cell_type": "code",
   "execution_count": 12,
   "metadata": {},
   "outputs": [
    {
     "name": "stdout",
     "output_type": "stream",
     "text": [
      "Enter title:Harry Potter and Goblet of Fire\n",
      "Harry Potter And Goblet Of Fire\n"
     ]
    }
   ],
   "source": [
    "# [ ] define title_it_rtn() which returns a titled string instead of printing\n",
    "# [ ] call title_it_rtn() using input for the string argumetnt and print the result\n",
    "#title = \"Harry\"\n",
    "def title_it_rtn(title):\n",
    "    return title.title()\n",
    "title = input(\"Enter title:\")\n",
    "print(title_it_rtn(title))\n"
   ]
  },
  {
   "cell_type": "markdown",
   "metadata": {},
   "source": [
    "## Program: bookstore()"
   ]
  },
  {
   "cell_type": "code",
   "execution_count": 21,
   "metadata": {},
   "outputs": [
    {
     "name": "stdout",
     "output_type": "stream",
     "text": [
      "Enter Title:The Adventures of Sherlock Homes \n",
      "Enter Price:12.99\n",
      "Title:The Adventures of Sherlock Homes , costs $12.99\n"
     ]
    }
   ],
   "source": [
    "# [ ] create, call and test bookstore() function\n",
    "def bookstore(title,price):\n",
    "    book = 'Title:'+ title+\",\"+\" \"+\"costs\"+\" $\"+price\n",
    "    return book\n",
    "book_entry = input(\"Enter Title:\")\n",
    "price_entry = input(\"Enter Price:\")\n",
    "print(bookstore(book_entry,price_entry))"
   ]
  },
  {
   "cell_type": "markdown",
   "metadata": {},
   "source": [
    "### Fix the error"
   ]
  },
  {
   "cell_type": "code",
   "execution_count": 14,
   "metadata": {},
   "outputs": [
    {
     "name": "stdout",
     "output_type": "stream",
     "text": [
      "enter a name: Harry\n",
      "enter a greeting: Welcome to the World\n",
      "Welcome to the World Harry!\n"
     ]
    }
   ],
   "source": [
    "def make_greeting(name, greeting = \"Hello\"):\n",
    "    return (greeting + \" \" + name + \"!\")\n",
    "\n",
    "\n",
    "\n",
    "def get_name():\n",
    "    name_entry = input(\"enter a name: \")\n",
    "    return name_entry\n",
    "\n",
    "def get_greeting():\n",
    "    greeting_entry = input(\"enter a greeting: \")\n",
    "    return greeting_entry\n",
    "# get name and greeting, send to make_greeting \n",
    "print(make_greeting(get_name(), get_greeting()))\n",
    "\n",
    "\n"
   ]
  },
  {
   "cell_type": "code",
   "execution_count": 27,
   "metadata": {},
   "outputs": [
    {
     "name": "stdout",
     "output_type": "stream",
     "text": [
      "Enter the Fish Type:Tuna\n",
      "Enter the Price(no symbols):11.97\n",
      "Fish Type: Tuna costs $11.97\n"
     ]
    }
   ],
   "source": [
    "\n",
    "#example of output: Fish Type: Guppy costs $1\n",
    "\n",
    "# [ ] create, call and test fishstore() function \n",
    "def fishstore(fish,price):\n",
    "    output = 'Fish Type:'+\" \"+fish.title()+\" \"+\"costs\"+\" $\"+price\n",
    "    return output\n",
    "fish_entry = input(\"Enter the Fish Type:\")\n",
    "price_entry = input(\"Enter the Price(no symbols):\")\n",
    "print(fishstore(fish_entry,price_entry))"
   ]
  },
  {
   "cell_type": "markdown",
   "metadata": {},
   "source": []
  },
  {
   "cell_type": "code",
   "execution_count": null,
   "metadata": {},
   "outputs": [],
   "source": []
  }
 ],
 "metadata": {
  "anaconda-cloud": {},
  "kernelspec": {
   "display_name": "Python 3",
   "language": "python",
   "name": "python3"
  },
  "language_info": {
   "codemirror_mode": {
    "name": "ipython",
    "version": 3
   },
   "file_extension": ".py",
   "mimetype": "text/x-python",
   "name": "python",
   "nbconvert_exporter": "python",
   "pygments_lexer": "ipython3",
   "version": "3.6.5"
  }
 },
 "nbformat": 4,
 "nbformat_minor": 1
}
