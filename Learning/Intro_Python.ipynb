{
 "cells": [
  {
   "cell_type": "markdown",
   "metadata": {},
   "source": [
    "# Intro Python Program Tasks"
   ]
  },
  {
   "cell_type": "code",
   "execution_count": 1,
   "metadata": {},
   "outputs": [
    {
     "name": "stdout",
     "output_type": "stream",
     "text": [
      "Hello world\n"
     ]
    }
   ],
   "source": [
    "# [ ] Review the code, run the code\n",
    "print(\"Hello world\")"
   ]
  },
  {
   "cell_type": "code",
   "execution_count": 2,
   "metadata": {},
   "outputs": [
    {
     "name": "stdout",
     "output_type": "stream",
     "text": [
      "Hello World\n"
     ]
    }
   ],
   "source": [
    "# print Hello World \n",
    "print(\"Hello World\")"
   ]
  },
  {
   "cell_type": "code",
   "execution_count": 3,
   "metadata": {},
   "outputs": [
    {
     "name": "stdout",
     "output_type": "stream",
     "text": [
      "299\n",
      "2017\n"
     ]
    }
   ],
   "source": [
    "# printing an Integer with python\n",
    "print(299)\n",
    "\n",
    "# printing a string made of Integer (number) characters with python\n",
    "print(\"2017\")"
   ]
  },
  {
   "cell_type": "code",
   "execution_count": 4,
   "metadata": {},
   "outputs": [
    {
     "name": "stdout",
     "output_type": "stream",
     "text": [
      "4\n",
      "4\n"
     ]
    }
   ],
   "source": [
    "# [ ] print an Integer\n",
    "print(4)\n",
    "\n",
    "# [ ] print a strings made of Integer characters\n",
    "print(\"4\")\n"
   ]
  },
  {
   "cell_type": "code",
   "execution_count": 5,
   "metadata": {},
   "outputs": [
    {
     "name": "stdout",
     "output_type": "stream",
     "text": [
      "I am a string\n",
      "I am a string\n"
     ]
    }
   ],
   "source": [
    "# [ ] Review code and Run\n",
    "# initialize the variable\n",
    "current_msg = \"I am a string\"\n",
    "\n",
    "# print literal string\n",
    "print(\"I am a string\")\n",
    "\n",
    "# print variable string\n",
    "print(current_msg)"
   ]
  },
  {
   "cell_type": "code",
   "execution_count": 6,
   "metadata": {},
   "outputs": [
    {
     "name": "stdout",
     "output_type": "stream",
     "text": [
      "Run this cell using Ctrl+Enter\n"
     ]
    }
   ],
   "source": [
    "# [ ] Review code and Run\n",
    "# assign a new string to the current_msg\n",
    "current_msg = \"Run this cell using Ctrl+Enter\"\n",
    "\n",
    "print(current_msg)"
   ]
  },
  {
   "cell_type": "code",
   "execution_count": 7,
   "metadata": {},
   "outputs": [
    {
     "name": "stdout",
     "output_type": "stream",
     "text": [
      "Run this cell using Ctrl+Enter\n",
      "New Message\n"
     ]
    }
   ],
   "source": [
    "# { ] run cell above then run this cell after completing the code as directed\n",
    "print(current_msg)\n",
    "current_msg = \"New Message\"\n",
    "print(current_msg)"
   ]
  },
  {
   "cell_type": "markdown",
   "metadata": {},
   "source": [
    "# Variables - Tasks"
   ]
  },
  {
   "cell_type": "code",
   "execution_count": 8,
   "metadata": {},
   "outputs": [
    {
     "name": "stdout",
     "output_type": "stream",
     "text": [
      "David\n"
     ]
    }
   ],
   "source": [
    "# [ ] assign a string value to a variable student_name\n",
    "student_name = \"David\"\n",
    "# [ ] print the value of variable student_name\n",
    "print(student_name)"
   ]
  },
  {
   "cell_type": "code",
   "execution_count": 9,
   "metadata": {},
   "outputs": [
    {
     "name": "stdout",
     "output_type": "stream",
     "text": [
      "Antony\n",
      "Mark\n"
     ]
    }
   ],
   "source": [
    "# [ ] assign the student_name variable  a different string value (a different name)\n",
    "student_name = \"Antony\"\n",
    "# [ ] print the value of variable student_name\n",
    "print(student_name)\n",
    "# [ ] assign a 3rd different string value, to the variable name \n",
    "student_name = \"Mark\"\n",
    "# [ ] print the value of variable name\n",
    "print(student_name)\n"
   ]
  },
  {
   "cell_type": "code",
   "execution_count": 10,
   "metadata": {},
   "outputs": [
    {
     "name": "stdout",
     "output_type": "stream",
     "text": [
      "45.0\n",
      "12\n"
     ]
    }
   ],
   "source": [
    "# [ ] assigning a value to a variable called bucket\n",
    "bucket = 45.0\n",
    "# [ ] print the value of bucket \n",
    "print(bucket)\n",
    "# [ ] assign an Integer value (no quotes) to the variable bucket\n",
    "bucket = 12\n",
    "# [ ] print the value of bucket \n",
    "print(bucket)\n"
   ]
  },
  {
   "cell_type": "markdown",
   "metadata": {},
   "source": [
    "# Type () - Tasks"
   ]
  },
  {
   "cell_type": "code",
   "execution_count": 11,
   "metadata": {},
   "outputs": [
    {
     "name": "stdout",
     "output_type": "stream",
     "text": [
      "<class 'str'>\n",
      "<class 'int'>\n",
      "<class 'float'>\n",
      "<class 'str'>\n"
     ]
    }
   ],
   "source": [
    "# [ ] Read and run the code\n",
    "print(type(\"Hello World!\"))\n",
    "\n",
    "print(type(501)) \n",
    "\n",
    "print(type(8.33333))\n",
    "\n",
    "student_name = \"Colette Browning\"\n",
    "print(type(student_name))"
   ]
  },
  {
   "cell_type": "markdown",
   "metadata": {},
   "source": [
    "# Arithmatic operations with number and strings - Taks"
   ]
  },
  {
   "cell_type": "code",
   "execution_count": 12,
   "metadata": {},
   "outputs": [
    {
     "data": {
      "text/plain": [
       "'my shoe color is brown'"
      ]
     },
     "execution_count": 12,
     "metadata": {},
     "output_type": "execute_result"
    }
   ],
   "source": [
    "# [ ] Review and run code for adding a variable string and a literal string\n",
    "shoe_color = \"brown\"\n",
    "\"my shoe color is \" + shoe_color"
   ]
  },
  {
   "cell_type": "code",
   "execution_count": 13,
   "metadata": {},
   "outputs": [
    {
     "data": {
      "text/plain": [
       "10"
      ]
     },
     "execution_count": 13,
     "metadata": {},
     "output_type": "execute_result"
    }
   ],
   "source": [
    "# [ ] Create variables sm_number and big_number and assign numbers then add the numbers\n",
    "sm_number = 4\n",
    "big_number = 6\n",
    "sm_number + big_number"
   ]
  },
  {
   "cell_type": "code",
   "execution_count": 14,
   "metadata": {},
   "outputs": [
    {
     "name": "stdout",
     "output_type": "stream",
     "text": [
      "50\n",
      "Happy Birthday Alton\n"
     ]
    }
   ],
   "source": [
    "# [ ] review & run code for assigning variables & using addition\n",
    "add_two = 34 + 16\n",
    "first_name = \"Alton\"\n",
    "greeting = \"Happy Birthday \" + first_name\n",
    "\n",
    "print(add_two)\n",
    "print(greeting)"
   ]
  },
  {
   "cell_type": "code",
   "execution_count": 15,
   "metadata": {},
   "outputs": [
    {
     "name": "stdout",
     "output_type": "stream",
     "text": [
      "Welcome\n",
      "to the CS world a literal string\n"
     ]
    }
   ],
   "source": [
    "# [ ] create and print a new string variable, new_msg_2, that concatenates new_msg + a literal string\n",
    "print(\"Welcome\")\n",
    "new_msg_2 = \"to the CS world\"\n",
    "print(str(new_msg_2)  + \" a literal string\")"
   ]
  },
  {
   "cell_type": "markdown",
   "metadata": {},
   "source": [
    "# Character Art -  Tasks"
   ]
  },
  {
   "cell_type": "code",
   "execution_count": 16,
   "metadata": {},
   "outputs": [
    {
     "name": "stdout",
     "output_type": "stream",
     "text": [
      "-         -\n",
      " \\       / \n",
      "  \\ . . /  \n",
      "     v     \n"
     ]
    }
   ],
   "source": [
    "# create # [ ] flying bird character art \n",
    "\n",
    "print(\"-         -\")\n",
    "print(\" \\       / \")\n",
    "print(\"  \\ . . /  \")\n",
    "print(\"     v     \")\n"
   ]
  },
  {
   "cell_type": "code",
   "execution_count": null,
   "metadata": {},
   "outputs": [
    {
     "name": "stdout",
     "output_type": "stream",
     "text": [
      " --------\n",
      "| \n",
      " --------\n",
      "|\n",
      " --------\n"
     ]
    }
   ],
   "source": [
    "# [ ] capital letter \"E\" character art\n",
    "print(\" --------\")\n",
    "print(\"| \")\n",
    "print(\" --------\")\n",
    "print(\"|\")\n",
    "print(\" --------\")"
   ]
  },
  {
   "cell_type": "markdown",
   "metadata": {},
   "source": [
    "# input() - Tasks"
   ]
  },
  {
   "cell_type": "code",
   "execution_count": null,
   "metadata": {},
   "outputs": [
    {
     "name": "stdout",
     "output_type": "stream",
     "text": [
      "enter a small int: \n",
      "4\n"
     ]
    }
   ],
   "source": [
    "# review and run code - enter a small integer in the text box\n",
    "print(\"enter a small int: \")\n",
    "small_int = input()\n",
    "print(\"small int: \")\n",
    "print(small_int)"
   ]
  },
  {
   "cell_type": "code",
   "execution_count": 1,
   "metadata": {},
   "outputs": [
    {
     "name": "stdout",
     "output_type": "stream",
     "text": [
      "Enter Student Name:mark\n",
      "Student Name is:mark\n"
     ]
    },
    {
     "data": {
      "text/plain": [
       "str"
      ]
     },
     "execution_count": 1,
     "metadata": {},
     "output_type": "execute_result"
    }
   ],
   "source": [
    "# [ ] get input for the variable student_name\n",
    "\n",
    "student_name = input(\"Enter Student Name:\")\n",
    "print(\"Student Name is:\" + student_name)\n",
    "# [ ] determine the type of student_name\n",
    "type(student_name)"
   ]
  },
  {
   "cell_type": "code",
   "execution_count": 2,
   "metadata": {},
   "outputs": [
    {
     "name": "stdout",
     "output_type": "stream",
     "text": [
      "enter the student name: mark\n",
      "Hi mark\n"
     ]
    }
   ],
   "source": [
    "student_name = input(\"enter the student name: \")  \n",
    "print(\"Hi \" + student_name)"
   ]
  },
  {
   "cell_type": "code",
   "execution_count": 3,
   "metadata": {},
   "outputs": [
    {
     "name": "stdout",
     "output_type": "stream",
     "text": [
      "Enter Name:mark\n",
      "Enter Age:25\n",
      "Yes/Noy\n",
      "Your Name= mark\n",
      "Your Age= 25\n",
      "wants email= y\n"
     ]
    }
   ],
   "source": [
    "# [ ]create variables to store input: name, age, get_mail with prompts\n",
    "# for name, age and yes/no to being on an email list\n",
    "name=input(\"Enter Name:\")\n",
    "age=input(\"Enter Age:\")\n",
    "get_mail=input(\"Yes/No\")\n",
    "\n",
    "# [ ] print a description + variable value for each variable\n",
    "print(\"Your Name= \" + name)\n",
    "print(\"Your Age= \" + age)\n",
    "print(\"wants email= \" + get_mail)"
   ]
  },
  {
   "cell_type": "markdown",
   "metadata": {},
   "source": [
    "# print() - Tasks"
   ]
  },
  {
   "cell_type": "code",
   "execution_count": 4,
   "metadata": {},
   "outputs": [
    {
     "name": "stdout",
     "output_type": "stream",
     "text": [
      "Hello Collette!\n",
      "Hello to Collette who is from the city\n"
     ]
    }
   ],
   "source": [
    "# review and run code\n",
    "\n",
    "name = \"Collette\"\n",
    "\n",
    "# string addition \n",
    "print(\"Hello \" + name + \"!\")\n",
    "\n",
    "# comma separation formatting\n",
    "print(\"Hello to\",name,\"who is from the city\")"
   ]
  },
  {
   "cell_type": "code",
   "execution_count": 5,
   "metadata": {},
   "outputs": [
    {
     "name": "stdout",
     "output_type": "stream",
     "text": [
      "Hello Gibran !! How are you ??\n"
     ]
    }
   ],
   "source": [
    "# [ ] print 3 strings on the same line using commas inside the print() function \n",
    "name = \"Gibran\"\n",
    "print(\"Hello\",name,\"!! How are you ??\")\n"
   ]
  },
  {
   "cell_type": "code",
   "execution_count": 6,
   "metadata": {},
   "outputs": [
    {
     "name": "stdout",
     "output_type": "stream",
     "text": [
      "I will pick you up @ 6 for the party\n"
     ]
    }
   ],
   "source": [
    "# review and run code\n",
    "print(\"I will pick you up @\",6,\"for the party\")"
   ]
  },
  {
   "cell_type": "code",
   "execution_count": 7,
   "metadata": {},
   "outputs": [
    {
     "name": "stdout",
     "output_type": "stream",
     "text": [
      "First number is 14 Second number is 20\n"
     ]
    }
   ],
   "source": [
    "# [ ] use a print() function with comma separation to combine 2 numbers and 2 strings\n",
    "num_1 = 14\n",
    "num_2 = 20\n",
    "str_1 = \"First\"\n",
    "str_2 = \"Second\"\n",
    "print(str_1,\"number is\",num_1,str_2,\"number is\",num_2)"
   ]
  },
  {
   "cell_type": "code",
   "execution_count": 8,
   "metadata": {},
   "outputs": [
    {
     "name": "stdout",
     "output_type": "stream",
     "text": [
      "street name:howard st\n",
      "street_number:134\n",
      "Your Street Name is: howard st and Street Number is: 134\n"
     ]
    }
   ],
   "source": [
    "# [ ] get user input for a street name in the variable, street\n",
    "street = input(\"street name:\")\n",
    "# [ ] get user input for a street number in the variable, st_number\n",
    "st_number = input(\"street_number:\")\n",
    "# [ ] display a message about the street and st_number\n",
    "print(\"Your\",\"Street Name is:\",street,\"and\",\"Street Number is:\",st_number)"
   ]
  },
  {
   "cell_type": "code",
   "execution_count": 9,
   "metadata": {},
   "outputs": [
    {
     "name": "stdout",
     "output_type": "stream",
     "text": [
      "Your Street Name is: howard st and Street Number is: 134 and old number is: 44\n"
     ]
    }
   ],
   "source": [
    "# [ ] define a variable with a string or numeric value\n",
    "st_2 = 44\n",
    "print(\"Your\",\"Street Name is:\",street,\"and\",\"Street Number is:\",st_number,\"and old number is:\",st_2)\n",
    "# [ ] display a message combining the variable, 1 or more literal strings and a number"
   ]
  },
  {
   "cell_type": "markdown",
   "metadata": {},
   "source": [
    "# Code: Training Schedule Reminder"
   ]
  },
  {
   "cell_type": "code",
   "execution_count": 10,
   "metadata": {},
   "outputs": [
    {
     "name": "stdout",
     "output_type": "stream",
     "text": [
      "How Many for the Training??\n",
      "Reservation for training class\n",
      "Name of Person:mark\n",
      "how many:45\n",
      "class time:2.5\n",
      "min early:5\n",
      "Reminder: training is scheduled at 2.5 for the mark group of 45 attendees\n",
      "Please arrive 5 early for the first class\n"
     ]
    }
   ],
   "source": [
    "# [ ] get input for variables: owner, num_people, training_time  - use descriptive prompt text\n",
    "print(\"How Many for the Training??\")\n",
    "print(\"Reservation for training class\")\n",
    "owner = input(\"Name of Person:\")\n",
    "num_people = input(\"how many:\") \n",
    "training_time = input(\"class time:\")\n",
    "# [ ] create a integer variable min_early and \"hard code\" the integer value (e.g. - 5, 10 or 15)\n",
    "min_early = input(\"min early:\")\n",
    "# [ ] print reminder text using all variables & add additional strings -  use comma separated print formatting\n",
    "print(\"Reminder:\",\"training is scheduled at\",training_time,\"for the\",owner,\"group of\",num_people,\"attendees\") \n",
    "print(\"Please arrive\",min_early,\"early for the first class\")"
   ]
  },
  {
   "cell_type": "markdown",
   "metadata": {},
   "source": [
    "# Boolean String Test - Task"
   ]
  },
  {
   "cell_type": "code",
   "execution_count": 23,
   "metadata": {},
   "outputs": [
    {
     "data": {
      "text/plain": [
       "True"
      ]
     },
     "execution_count": 23,
     "metadata": {},
     "output_type": "execute_result"
    }
   ],
   "source": [
    "\"Python\".isalpha()"
   ]
  },
  {
   "cell_type": "code",
   "execution_count": 20,
   "metadata": {},
   "outputs": [
    {
     "data": {
      "text/plain": [
       "True"
      ]
     },
     "execution_count": 20,
     "metadata": {},
     "output_type": "execute_result"
    }
   ],
   "source": [
    "\"3rd\".isalnum()"
   ]
  },
  {
   "cell_type": "code",
   "execution_count": 6,
   "metadata": {},
   "outputs": [
    {
     "data": {
      "text/plain": [
       "True"
      ]
     },
     "execution_count": 6,
     "metadata": {},
     "output_type": "execute_result"
    }
   ],
   "source": [
    "\"A Cold Stromy Night\".istitle()"
   ]
  },
  {
   "cell_type": "code",
   "execution_count": 7,
   "metadata": {},
   "outputs": [
    {
     "data": {
      "text/plain": [
       "True"
      ]
     },
     "execution_count": 7,
     "metadata": {},
     "output_type": "execute_result"
    }
   ],
   "source": [
    "\"1003\".isdigit()"
   ]
  },
  {
   "cell_type": "code",
   "execution_count": 8,
   "metadata": {},
   "outputs": [
    {
     "name": "stdout",
     "output_type": "stream",
     "text": [
      "cm height: 176 is all digits = True\n"
     ]
    }
   ],
   "source": [
    "cm_height = \"176\"\n",
    "print(\"cm height:\",cm_height, \"is all digits =\",cm_height.isdigit())"
   ]
  },
  {
   "cell_type": "code",
   "execution_count": 9,
   "metadata": {},
   "outputs": [
    {
     "name": "stdout",
     "output_type": "stream",
     "text": [
      "False\n",
      "True\n"
     ]
    }
   ],
   "source": [
    "print(\"SAVE\".islower())\n",
    "print(\"SAVE\".isupper())"
   ]
  },
  {
   "cell_type": "code",
   "execution_count": 24,
   "metadata": {},
   "outputs": [
    {
     "data": {
      "text/plain": [
       "True"
      ]
     },
     "execution_count": 24,
     "metadata": {},
     "output_type": "execute_result"
    }
   ],
   "source": [
    "\"Boolean\".startswith(\"B\")"
   ]
  },
  {
   "cell_type": "markdown",
   "metadata": {},
   "source": [
    "# String Format"
   ]
  },
  {
   "cell_type": "code",
   "execution_count": 11,
   "metadata": {},
   "outputs": [
    {
     "name": "stdout",
     "output_type": "stream",
     "text": [
      "Enter Fav Food:pizza\n",
      "PIZZA\n",
      "pizza\n",
      "PIZZA\n",
      "Pizza\n"
     ]
    }
   ],
   "source": [
    "# [ ] get input for a variable, fav_food, that describes a favorite food\n",
    "fav_food = input(\"Enter Fav Food:\")\n",
    "# [ ] display fav_food as ALL CAPS, used in a sentence\n",
    "print(fav_food.upper())\n",
    "\n",
    "# [ ] dispaly fav_food as all lower case, used in a sentence\n",
    "print(fav_food.lower())\n",
    "\n",
    "# [] display fav_food with swapped case, used in a sentence\n",
    "print(fav_food.swapcase())\n",
    "\n",
    "# [] display fav_food with capitalization, used in a sentence\n",
    "print(fav_food.capitalize())"
   ]
  },
  {
   "cell_type": "code",
   "execution_count": null,
   "metadata": {},
   "outputs": [
    {
     "name": "stdout",
     "output_type": "stream",
     "text": [
      "Enter the Item to Check:pizza\n",
      "True\n",
      "pizza, bread , jam, pasta, pita \n",
      "enter item to add:jalapeno\n",
      "pizza, bread , jam, pasta, pita jalapeno\n"
     ]
    }
   ],
   "source": [
    "# Create a program where the user supplies input to search the menu\n",
    "menu_ask = \"pizza, bread , jam, pasta, pita \"\n",
    "\n",
    "print(input(\"Enter the Item to Check:\").lower() in menu_ask)\n",
    "# add to menu\n",
    "print(menu_ask)\n",
    "add_item =input(\"enter item to add:\")\n",
    "new_menu = menu_ask + add_item\n",
    "print(new_menu)\n",
    "print(input(\"input check item:\") in new_menu)"
   ]
  },
  {
   "cell_type": "markdown",
   "metadata": {},
   "source": [
    "# Function Defintion - Task"
   ]
  },
  {
   "cell_type": "code",
   "execution_count": 1,
   "metadata": {},
   "outputs": [],
   "source": [
    "# defines a function named say_hi\n",
    "def say_hi():\n",
    "    print(\"Hello there!\")\n",
    "    print(\"goodbye\")"
   ]
  },
  {
   "cell_type": "code",
   "execution_count": 2,
   "metadata": {},
   "outputs": [],
   "source": [
    "# define three_three \n",
    "def three_three():\n",
    "    print(33)"
   ]
  },
  {
   "cell_type": "code",
   "execution_count": 3,
   "metadata": {},
   "outputs": [
    {
     "name": "stdout",
     "output_type": "stream",
     "text": [
      "Hello there!\n",
      "goodbye\n",
      "\n",
      "33\n"
     ]
    }
   ],
   "source": [
    "# Program defines and calls the say_hi & three_three functions\n",
    "# [ ] review and run the code\n",
    "\n",
    "def say_hi():\n",
    "    print(\"Hello there!\")\n",
    "    print(\"goodbye\")\n",
    "# end of indentation ends the function\n",
    "\n",
    "# define three_three \n",
    "def three_three():\n",
    "    print(33) \n",
    "\n",
    "# calling the functions\n",
    "say_hi()\n",
    "print()\n",
    "three_three()"
   ]
  },
  {
   "cell_type": "code",
   "execution_count": 4,
   "metadata": {},
   "outputs": [
    {
     "name": "stdout",
     "output_type": "stream",
     "text": [
      "words to yell:yaaahah\n",
      "yaaahah\n"
     ]
    }
   ],
   "source": [
    "# [ ] define yell_this() \n",
    "def yell_this(phrase):\n",
    "    print(phrase.lower())\n",
    "# [ ] get user input in variable words_to_yell\n",
    "words_to_yell = input(\"words to yell:\")    \n",
    "# [ ] call yell_this function with words_to_yell as argument\n",
    "yell_this(words_to_yell)"
   ]
  },
  {
   "cell_type": "markdown",
   "metadata": {},
   "source": [
    "# Function Defintion and Return Value- Task"
   ]
  },
  {
   "cell_type": "code",
   "execution_count": 1,
   "metadata": {},
   "outputs": [
    {
     "name": "stdout",
     "output_type": "stream",
     "text": [
      "let's not go let's not go\n"
     ]
    }
   ],
   "source": [
    "# Message double returns the string Argument doubled\n",
    "def msg_double(phrase):\n",
    "      double = phrase + \" \" + phrase\n",
    "      return double\n",
    "\n",
    "# save return value in variable\n",
    "msg_2x = msg_double(\"let's not go\")\n",
    "print(msg_2x)"
   ]
  },
  {
   "cell_type": "code",
   "execution_count": 4,
   "metadata": {},
   "outputs": [
    {
     "name": "stdout",
     "output_type": "stream",
     "text": [
      "Save Now! Save Now!\n"
     ]
    },
    {
     "data": {
      "text/plain": [
       "str"
      ]
     },
     "execution_count": 4,
     "metadata": {},
     "output_type": "execute_result"
    }
   ],
   "source": [
    "# example of functions with return values used in functions\n",
    "def msg_double(phrase):\n",
    "      double = phrase + \" \" + phrase\n",
    "      return double\n",
    "\n",
    "# prints the returned object\n",
    "print(msg_double(\"Save Now!\"))\n",
    "\n",
    "# echo the type of the returned object\n",
    "type(msg_double(\"Save Now!\"))"
   ]
  },
  {
   "cell_type": "code",
   "execution_count": 2,
   "metadata": {},
   "outputs": [
    {
     "name": "stdout",
     "output_type": "stream",
     "text": [
      "enter full name:david moses\n",
      "Doctor david moses\n"
     ]
    }
   ],
   "source": [
    "# create and call make_doctor() with full_name argument from user input - then print the return value\n",
    "def make_doctor(name):\n",
    "    doctor = \"Doctor\"+ \" \" + name\n",
    "    return doctor\n",
    " \n",
    "full_name = input(\"enter full name:\")\n",
    "print(make_doctor(full_name))\n"
   ]
  },
  {
   "cell_type": "code",
   "execution_count": 3,
   "metadata": {},
   "outputs": [
    {
     "name": "stdout",
     "output_type": "stream",
     "text": [
      "SCHEDULE: [1st] Mathematics, [2nd] History\n"
     ]
    }
   ],
   "source": [
    "def make_schedule(period1, period2):\n",
    "    schedule = (\"[1st] \" + period1.title() + \", [2nd] \" + period2.title())\n",
    "    return schedule\n",
    "\n",
    "student_schedule = make_schedule(\"mathematics\", \"history\")\n",
    "print(\"SCHEDULE:\", student_schedule)"
   ]
  },
  {
   "cell_type": "code",
   "execution_count": 4,
   "metadata": {},
   "outputs": [
    {
     "name": "stdout",
     "output_type": "stream",
     "text": [
      "SCHEDULE: [1st] Mathematics, [2nd] History, [3rd] Science\n"
     ]
    }
   ],
   "source": [
    "# [ ] add a 3rd period parameter to make_schedule\n",
    "def make_schedule(period1, period2,period3):\n",
    "    schedule = (\"[1st] \" + period1.title() + \", [2nd] \" + period2.title() +\", [3rd] \" + period3.title())\n",
    "    return schedule\n",
    "\n",
    "student_schedule = make_schedule(\"mathematics\", \"history\",\"science\")\n",
    "print(\"SCHEDULE:\", student_schedule)\n",
    "# [ ] Optional - print a schedule for 6 classes (Tip: perhaps let the function make this easy)\n",
    "\n"
   ]
  },
  {
   "cell_type": "code",
   "execution_count": 5,
   "metadata": {},
   "outputs": [
    {
     "name": "stdout",
     "output_type": "stream",
     "text": [
      "enter your bird:crow\n",
      "Status Availability: True\n"
     ]
    }
   ],
   "source": [
    "# [ ] create function bird_available\n",
    "def bird_available(bird):\n",
    "    bird_types = 'crow robin parrot eagle sandpiper hawk piegon'\n",
    "    return(bird.lower() in bird_types)\n",
    "# [ ] user input\n",
    "bird = input(\"enter your bird:\")\n",
    "# [ ] call bird_available\n",
    "status = bird_available(bird)\n",
    "# [ ] print availbility status\n",
    "print(\"Status Availability:\",status)"
   ]
  },
  {
   "cell_type": "markdown",
   "metadata": {},
   "source": [
    "# Conditional - True or False - Tasks"
   ]
  },
  {
   "cell_type": "code",
   "execution_count": 6,
   "metadata": {},
   "outputs": [
    {
     "name": "stdout",
     "output_type": "stream",
     "text": [
      "True means do something\n"
     ]
    }
   ],
   "source": [
    "if True:\n",
    "    print(\"True means do something\")\n",
    "else:\n",
    "    print(\"Not True means do something else\")"
   ]
  },
  {
   "cell_type": "code",
   "execution_count": 24,
   "metadata": {},
   "outputs": [
    {
     "name": "stdout",
     "output_type": "stream",
     "text": [
      "Enter the title of a favorite book: harry potter\n",
      "harry potter - consider capitalization throughout for book titles.\n"
     ]
    }
   ],
   "source": [
    "# review code and run cell\n",
    "favorite_book = input(\"Enter the title of a favorite book: \")\n",
    "\n",
    "if favorite_book.istitle():\n",
    "    print(favorite_book, \"- nice capitalization in that title!\")\n",
    "else:\n",
    "    print(favorite_book, \"- consider capitalization throughout for book titles.\")"
   ]
  },
  {
   "cell_type": "code",
   "execution_count": 32,
   "metadata": {},
   "outputs": [
    {
     "name": "stdout",
     "output_type": "stream",
     "text": [
      "enter a positive integer number: 4\n",
      "4 is a positive integer\n"
     ]
    }
   ],
   "source": [
    "# review code and run cell\n",
    "a_number = input(\"enter a positive integer number: \")\n",
    "\n",
    "if a_number.isdigit():\n",
    "    print(a_number, \"is a positive integer\")\n",
    "else:\n",
    "    print(a_number, \"is not a positive integer\")\n",
    "    \n",
    "# another if\n",
    "if a_number.isalpha():\n",
    "    print(a_number, \"is more like a word\")\n",
    "else:\n",
    "    pass"
   ]
  },
  {
   "cell_type": "code",
   "execution_count": 11,
   "metadata": {},
   "outputs": [
    {
     "name": "stdout",
     "output_type": "stream",
     "text": [
      "enjoy some tea, and perhaps try hot tea next time.\n"
     ]
    }
   ],
   "source": [
    "hot_tea = False\n",
    "\n",
    "if hot_tea:\n",
    "    print(\"enjoy some hot tea!\")\n",
    "else:\n",
    "    print(\"enjoy some tea, and perhaps try hot tea next time.\")"
   ]
  },
  {
   "cell_type": "code",
   "execution_count": 19,
   "metadata": {},
   "outputs": [],
   "source": [
    "someone_i_know = False\n",
    "if someone_i_know:\n",
    "    print(\"how have you been?\")\n",
    "else:\n",
    "    # use pass if there is no need to execute code \n",
    "    pass"
   ]
  },
  {
   "cell_type": "code",
   "execution_count": 20,
   "metadata": {},
   "outputs": [
    {
     "name": "stdout",
     "output_type": "stream",
     "text": [
      "how have you been?\n"
     ]
    }
   ],
   "source": [
    "# changed the value of someone_i_know\n",
    "someone_i_know = True\n",
    "if someone_i_know:\n",
    "    print(\"how have you been?\")\n",
    "else:\n",
    "    pass"
   ]
  },
  {
   "cell_type": "code",
   "execution_count": 37,
   "metadata": {},
   "outputs": [
    {
     "name": "stdout",
     "output_type": "stream",
     "text": [
      "string is lower\n",
      "string is not lower\n"
     ]
    }
   ],
   "source": [
    "test_string_1 = \"welcome\"\n",
    "test_string_2 = \"I have $3\"\n",
    "# [ ] use if, else to test for islower() for the 2 strings\n",
    "if test_string_1.islower():\n",
    "    print(\"string is lower\")\n",
    "else:\n",
    "    print(\"string is not lower\")\n",
    "if test_string_2.islower():\n",
    "    print(\"string is lower\")\n",
    "else:\n",
    "    print(\"string is not lower\")\n"
   ]
  },
  {
   "cell_type": "markdown",
   "metadata": {},
   "source": [
    "# Code:  Check the String"
   ]
  },
  {
   "cell_type": "code",
   "execution_count": 53,
   "metadata": {},
   "outputs": [
    {
     "name": "stdout",
     "output_type": "stream",
     "text": [
      "s1 starts with w\n",
      "s2 doesnt start with w\n",
      "s3 starts with w\n"
     ]
    }
   ],
   "source": [
    "test_string_1 = \"welcome\"\n",
    "test_string_2 = \"I have $3\"\n",
    "test_string_3 = \"With a function it's efficient to repeat code\"\n",
    "# [ ] create a function w_start_test() use if & else to test with startswith('w')\n",
    "def w_start_test():\n",
    "    \n",
    "    if test_string_1.lower().startswith('w'):\n",
    "        print(\"s1 starts with w\")\n",
    "    else:\n",
    "        print(\"s1 doesnt start with w\")\n",
    "    if test_string_2.startswith('w'):\n",
    "        print(\"s2 starts with w\")\n",
    "    else:\n",
    "        print(\"s2 doesnt start with w\")\n",
    "    if test_string_3.lower().startswith('w'):\n",
    "        print(\"s3 starts with w\")\n",
    "    else:\n",
    "        print(\"s3 doesnt start with w\")\n",
    "    return\n",
    "# [ ] Test the 3 string variables provided by calling w_start_test()\n",
    "w_start_test()\n"
   ]
  },
  {
   "cell_type": "markdown",
   "metadata": {},
   "source": [
    "# Comparision Operator - Tasks"
   ]
  },
  {
   "cell_type": "code",
   "execution_count": 7,
   "metadata": {},
   "outputs": [
    {
     "data": {
      "text/plain": [
       "False"
      ]
     },
     "execution_count": 7,
     "metadata": {},
     "output_type": "execute_result"
    }
   ],
   "source": [
    "# [ ] review and run code to see if 3 greater than 5\n",
    "3 > 5"
   ]
  },
  {
   "cell_type": "code",
   "execution_count": 2,
   "metadata": {},
   "outputs": [
    {
     "data": {
      "text/plain": [
       "True"
      ]
     },
     "execution_count": 2,
     "metadata": {},
     "output_type": "execute_result"
    }
   ],
   "source": [
    "# [ ] review and run code to see if 3 less than or equal to 5\n",
    "3 <= 5"
   ]
  },
  {
   "cell_type": "code",
   "execution_count": 3,
   "metadata": {},
   "outputs": [
    {
     "data": {
      "text/plain": [
       "False"
      ]
     },
     "execution_count": 3,
     "metadata": {},
     "output_type": "execute_result"
    }
   ],
   "source": [
    "# [ ] review and run code \n",
    "\n",
    "# assign x equal to 3\n",
    "x = 3\n",
    "\n",
    "# test if x is equal to\n",
    "x == 9"
   ]
  },
  {
   "cell_type": "code",
   "execution_count": 4,
   "metadata": {},
   "outputs": [
    {
     "name": "stdout",
     "output_type": "stream",
     "text": [
      "x not equal 9 is True\n",
      "x equal 3 is True\n"
     ]
    }
   ],
   "source": [
    "# [ ] review and run code \n",
    "x = 3\n",
    "print(\"x not equal 9 is\", x != 9)\n",
    "print(\"x equal 3 is\", x == 3)"
   ]
  },
  {
   "cell_type": "code",
   "execution_count": 5,
   "metadata": {
    "scrolled": true
   },
   "outputs": [
    {
     "name": "stdout",
     "output_type": "stream",
     "text": [
      "x is not equal to 20 is  True\n",
      "x is equal to 13 is True\n"
     ]
    }
   ],
   "source": [
    "x = 9 + 4\n",
    "# [ ] create a test to print() True or False for x is equal to 13\n",
    "print(\"x is not equal to 20 is \",x!=20)\n",
    "print(\"x is equal to 13 is\",x==13)\n"
   ]
  },
  {
   "cell_type": "code",
   "execution_count": 8,
   "metadata": {},
   "outputs": [
    {
     "name": "stdout",
     "output_type": "stream",
     "text": [
      "3+3 is greater than 2+4 is  False\n",
      "3+3 is equal to 2+4 is True\n"
     ]
    }
   ],
   "source": [
    "# [ ] create a test to print True or False for 3 + 3 is greater than 2 + 4\n",
    "print(\"3+3 is greater than 2+4 is \",3+3 > 2+4)\n",
    "print(\"3+3 is equal to 2+4 is\",3+3 == 2+4)\n"
   ]
  },
  {
   "cell_type": "code",
   "execution_count": 9,
   "metadata": {
    "scrolled": true
   },
   "outputs": [
    {
     "name": "stdout",
     "output_type": "stream",
     "text": [
      "x was 21\n",
      "now x is 25\n"
     ]
    }
   ],
   "source": [
    "# review code and run cell\n",
    "x = 21\n",
    "if x > 25:\n",
    "    print(\"x is already bigger than 25\")\n",
    "else:\n",
    "    print(\"x was\", x)\n",
    "    x = 25\n",
    "    print(\"now x is\", x)"
   ]
  },
  {
   "cell_type": "code",
   "execution_count": 10,
   "metadata": {},
   "outputs": [
    {
     "name": "stdout",
     "output_type": "stream",
     "text": [
      "Pass: x + 18 is equal to 36\n"
     ]
    }
   ],
   "source": [
    "# review code and run cell\n",
    "x = 18\n",
    "if x + 18 == x + x:\n",
    "    print(\"Pass: x + 18 is equal to\", x + x)\n",
    "else:\n",
    "    print(\"Fail: x + 18 is not equal to\", x + x)"
   ]
  },
  {
   "cell_type": "code",
   "execution_count": 11,
   "metadata": {},
   "outputs": [
    {
     "name": "stdout",
     "output_type": "stream",
     "text": [
      "x is 18\n"
     ]
    }
   ],
   "source": [
    "# review code and run cell. \"!\" means \"not\"\n",
    "x = 18\n",
    "test_value = 18\n",
    "if x != test_value:\n",
    "    print('x is not', test_value)\n",
    "else:\n",
    "    print('x is', test_value)\n"
   ]
  },
  {
   "cell_type": "code",
   "execution_count": 13,
   "metadata": {},
   "outputs": [
    {
     "name": "stdout",
     "output_type": "stream",
     "text": [
      "\"==\" tests for, is equal to\n"
     ]
    }
   ],
   "source": [
    "# review code and run cell\n",
    "# DON'T ASSIGN (x = 2) when you mean to COMPARE (x == 2)\n",
    "x = 2\n",
    "\n",
    "if x == 2:\n",
    "    print('\"==\" tests for, is equal to')\n",
    "else:\n",
    "    pass"
   ]
  },
  {
   "cell_type": "code",
   "execution_count": 16,
   "metadata": {},
   "outputs": [
    {
     "name": "stdout",
     "output_type": "stream",
     "text": [
      "y is greater than equal to x+x True\n"
     ]
    }
   ],
   "source": [
    "# [ ] create an if/else statement that tests if y is greater than or equal x + x \n",
    "# [ ] print output: \"y greater than or equal x + x is\" True/False ...or a similar output\n",
    "x = 3\n",
    "y = x + 8\n",
    "if y >= x+x:\n",
    "    print(\"y is greater than equal to x+x\", y>=x+x)\n",
    "else:\n",
    "    print(\"y is not greater than equal to x+x\", y<=x+x)\n",
    "    \n",
    "\n"
   ]
  },
  {
   "cell_type": "markdown",
   "metadata": {},
   "source": [
    "# Code:  Check the ID"
   ]
  },
  {
   "cell_type": "code",
   "execution_count": 8,
   "metadata": {},
   "outputs": [
    {
     "name": "stdout",
     "output_type": "stream",
     "text": [
      "3556 is a new student\n",
      "False\n",
      "Start the week!\n",
      "Jin Xu is a string entry\n"
     ]
    }
   ],
   "source": [
    "\n",
    "id = 3556\n",
    "\n",
    "if id > 2999:\n",
    "    print(id, \"is a new student\")\n",
    "else:\n",
    "    print(id, \"is an existing student\")\n",
    "    \n",
    "name = \"Tobias\"\n",
    "\n",
    "print(name == \"Alton\")\n",
    "\n",
    "day = \"monday\"\n",
    "\n",
    "if day.capitalize() == \"Monday\":\n",
    "    print(\"Start the week!\")\n",
    "else:\n",
    "    pass\n",
    "\n",
    "name = \"Jin Xu\"\n",
    "\n",
    "if type(name) == type(\"Hello\"):\n",
    "    print(name, \"is a string entry\")\n",
    "else:\n",
    "    print(name, \"is not a string entry\")"
   ]
  },
  {
   "cell_type": "markdown",
   "metadata": {},
   "source": [
    "# elif and cast - Tasks "
   ]
  },
  {
   "cell_type": "code",
   "execution_count": 9,
   "metadata": {},
   "outputs": [
    {
     "name": "stdout",
     "output_type": "stream",
     "text": [
      "Enter weather (sunny, rainy, snowy): sunny\n",
      "Wear a t-shirt\n"
     ]
    }
   ],
   "source": [
    "# [ ] review the code then run testing different inputs\n",
    "# WHAT TO WEAR\n",
    "weather = input(\"Enter weather (sunny, rainy, snowy): \") \n",
    "\n",
    "if weather.lower() == \"sunny\":\n",
    "    print(\"Wear a t-shirt\")\n",
    "elif weather.lower() == \"rainy\":\n",
    "    print(\"Bring an umbrella and boots\")\n",
    "elif weather.lower() == \"snowy\":\n",
    "    print(\"Wear a warm coat and hat\")\n",
    "else:\n",
    "    print(\"Sorry, not sure what to suggest for\", weather)"
   ]
  },
  {
   "cell_type": "markdown",
   "metadata": {},
   "source": [
    "# code: Secret Number Guess"
   ]
  },
  {
   "cell_type": "code",
   "execution_count": 10,
   "metadata": {},
   "outputs": [
    {
     "name": "stdout",
     "output_type": "stream",
     "text": [
      "Enter a guess for the secret number (1-3): 2\n",
      "Guess is right\n"
     ]
    }
   ],
   "source": [
    "# [ ] review the code then run testing different inputs\n",
    "# SECRET NUMBER GUESS\n",
    "secret_num = \"2\"\n",
    "\n",
    "guess = input(\"Enter a guess for the secret number (1-3): \")\n",
    "\n",
    "if guess.isdigit() == False:\n",
    "    print(\"Invalid: guess should only use digits\")\n",
    "elif guess == \"1\":\n",
    "    print(\"Guess is too low\")\n",
    "elif guess == secret_num:\n",
    "    print(\"Guess is right\")\n",
    "elif guess == \"3\":\n",
    "    print(\"Guess is too high\")\n",
    "else:\n",
    "    print(guess, \"is not a valid guess (1-3)\")"
   ]
  },
  {
   "cell_type": "markdown",
   "metadata": {},
   "source": [
    "# code : shirt sale"
   ]
  },
  {
   "cell_type": "code",
   "execution_count": 11,
   "metadata": {},
   "outputs": [
    {
     "name": "stdout",
     "output_type": "stream",
     "text": [
      "Your Size Choice (S, M, L):s\n",
      "Your Size s price = $6\n"
     ]
    }
   ],
   "source": [
    "# [ ] code and test SHIRT SALE\n",
    "size = input(\"Your Size Choice (S, M, L):\")\n",
    "\n",
    "if size.upper() == \"S\":\n",
    "    print(\"Your Size\",size,\"price = $6\")\n",
    "elif size.upper() == \"M\":\n",
    "    print(\"Your Size\",size,\"price = $7\")\n",
    "elif size.upper() == \"L\":\n",
    "    print(\"Your Size\",size,\"price = $8\")\n",
    "else:\n",
    "    print(\"Not available for your\",size,\" size\")\n",
    "\n"
   ]
  },
  {
   "cell_type": "code",
   "execution_count": 12,
   "metadata": {},
   "outputs": [
    {
     "name": "stdout",
     "output_type": "stream",
     "text": [
      "36\n"
     ]
    }
   ],
   "source": [
    "str_num_1 = \"11\"\n",
    "str_num_2 = \"15\"\n",
    "int_num_3 = 10\n",
    "# [ ] Add the 3 numbers as integers and print the result\n",
    "total = int(str_num_1) + int(str_num_2) + int_num_3\n",
    "print(total)\n"
   ]
  },
  {
   "cell_type": "code",
   "execution_count": 13,
   "metadata": {},
   "outputs": [
    {
     "name": "stdout",
     "output_type": "stream",
     "text": [
      "111510\n"
     ]
    }
   ],
   "source": [
    "str_num_1 = \"11\"\n",
    "str_num_2 = \"15\"\n",
    "int_num_3 = 10\n",
    "# [ ] Add the 3 numbers as test strings and print the result\n",
    "total = (str_num_1) + (str_num_2) + str(int_num_3)\n",
    "print(total)\n"
   ]
  },
  {
   "cell_type": "markdown",
   "metadata": {},
   "source": [
    "# Code : Adding Calculator"
   ]
  },
  {
   "cell_type": "code",
   "execution_count": 14,
   "metadata": {},
   "outputs": [
    {
     "name": "stdout",
     "output_type": "stream",
     "text": [
      "Enter two integer number1:3\n",
      "Enter two integer number2:2\n",
      "3 + 2 = 5\n"
     ]
    }
   ],
   "source": [
    "# [ ] code and test the adding calculator\n",
    "numb1 = input(\"Enter two integer number1:\")\n",
    "if numb1.isdigit():\n",
    "     numb2 = input(\"Enter two integer number2:\")\n",
    "     if numb2.isdigit():\n",
    "        numb1 = int(numb1)\n",
    "        numb2 = int(numb2)\n",
    "        numb= numb1+numb2\n",
    "        print(numb1,\"+\",numb2,\"=\",numb)\n",
    "     else:\n",
    "        print(\"Enter number 2 in digits\")\n",
    "else:\n",
    "    print(\"Enter number 1 in digits\")"
   ]
  },
  {
   "cell_type": "markdown",
   "metadata": {},
   "source": [
    "# nested if condtion - Task"
   ]
  },
  {
   "cell_type": "code",
   "execution_count": 17,
   "metadata": {},
   "outputs": [
    {
     "name": "stdout",
     "output_type": "stream",
     "text": [
      "\"c\" for Cheese or \"v\" for Veggie Special: c\n",
      "\"c\" for Cheddar or \"m\" for Manchego: m\n",
      "Here is your Manchego Cheese sandwich\n"
     ]
    }
   ],
   "source": [
    "#Making Sandwich\n",
    "\n",
    "sandwich_type = input('\"c\" for Cheese or \"v\" for Veggie Special: ')\n",
    "\n",
    "if sandwich_type.lower() == \"c\":\n",
    "    # select cheese type\n",
    "    cheese_type = input('\"c\" for Cheddar or \"m\" for Manchego: ')\n",
    "    \n",
    "    if cheese_type.lower() == \"c\":\n",
    "        print(\"Here is your Cheddar Cheese sandwich\")\n",
    "    else:\n",
    "        print(\"Here is your Manchego Cheese sandwich\") \n",
    "\n",
    "else:\n",
    "    print(\"Here is your Veggie Special\")"
   ]
  },
  {
   "cell_type": "code",
   "execution_count": 18,
   "metadata": {},
   "outputs": [
    {
     "name": "stdout",
     "output_type": "stream",
     "text": [
      "Hi, welcome to the sandwich shop.  Please select a sandwich.\n",
      "\"c\" for Cheese or \"v\" for Veggie Special: v\n",
      "\n",
      "Here is your Veggie Special. Thank you.\n",
      "\n",
      "Goodbye!\n"
     ]
    }
   ],
   "source": [
    "print(\"Hi, welcome to the sandwich shop.  Please select a sandwich.\")\n",
    "sandwich_type = input('\"c\" for Cheese or \"v\" for Veggie Special: ')\n",
    "# select sandwich type sandwich_type = input('\"c\" for Cheese or \"v\" for Veggie Special: ')\n",
    "print()\n",
    "    \n",
    "if sandwich_type.lower() == \"c\":\n",
    "    # select cheese type\n",
    "    print(\"Please select a cheese.\")\n",
    "    cheese_type = input('\"c\" for Cheddar or \"m\" for Manchego: ')\n",
    "    print()\n",
    "    \n",
    "    if cheese_type.lower() == \"c\":\n",
    "        print(\"Here is your Cheddar Cheese sandwich.  Thank you.\")\n",
    "    elif cheese_type.lower() == \"m\":\n",
    "        print(\"Here is your Manchego Cheese sandwich.  Thank you.\") \n",
    "    else:\n",
    "        print(\"Sorry, we don't have\", cheese_type, \"choice today.\")\n",
    "\n",
    "elif sandwich_type.lower() == \"v\":\n",
    "    print(\"Here is your Veggie Special. Thank you.\")\n",
    "        \n",
    "else:\n",
    "    print(\"Sorry, we don't have\", sandwich_type, \"choice today.\")\n",
    "print()\n",
    "print(\"Goodbye!\")\n"
   ]
  },
  {
   "cell_type": "code",
   "execution_count": 19,
   "metadata": {},
   "outputs": [
    {
     "name": "stdout",
     "output_type": "stream",
     "text": [
      " Try 1 - Guess the Bird: crow\n",
      "1st Try! Got it!!\n"
     ]
    }
   ],
   "source": [
    "# [ ] Create the \"Guess the bird\" program \n",
    "birds = (\"crow\",\"peacock\",\"hbird\")\n",
    "guess = input(\" Try 1 - Guess the Bird: \").lower()\n",
    "\n",
    "if guess not in birds:\n",
    "    guess_1 = input(\"Try 2 - Guess the bird: \").lower()\n",
    "    if guess_1 not in birds:\n",
    "        guess_2 = input(\"Try 3 - Guess the bird: \").lower()\n",
    "        if guess_2 not in birds:\n",
    "            print(\"Sorry Out of tries\")\n",
    "        else:\n",
    "            print(\"3rd Try!! Got it!!\")\n",
    "    else:\n",
    "        print(\"2nd Try!! Got it!!\")\n",
    "        \n",
    "else:\n",
    "    print(\"1st Try! Got it!!\")"
   ]
  },
  {
   "cell_type": "markdown",
   "metadata": {},
   "source": [
    "# Escape Sequence - Task"
   ]
  },
  {
   "cell_type": "code",
   "execution_count": 20,
   "metadata": {},
   "outputs": [
    {
     "name": "stdout",
     "output_type": "stream",
     "text": [
      "Enter a word starts with \"pre\": prepone\n",
      "a pre word\n",
      "True\n"
     ]
    }
   ],
   "source": [
    "# [ ] create and test pre_word()\n",
    "def pre_word(string):\n",
    "\n",
    "    if string.startswith(\"pre\"):\n",
    "        if string.isalpha():\n",
    "            print(\"a pre word\")\n",
    "            return True\n",
    "            \n",
    "        else:\n",
    "            print(\"not a pre word\")\n",
    "            return False\n",
    "            \n",
    "    else:\n",
    "        print(\"not a pre word\")\n",
    "        return False\n",
    "        \n",
    "print(pre_word(input(\"Enter a word starts with \\\"pre\\\": \")))\n"
   ]
  },
  {
   "cell_type": "markdown",
   "metadata": {},
   "source": [
    "# while loop - Task "
   ]
  },
  {
   "cell_type": "code",
   "execution_count": 21,
   "metadata": {},
   "outputs": [
    {
     "name": "stdout",
     "output_type": "stream",
     "text": [
      "Enter weather (sunny, rainy, snowy, or quit): sunny\n",
      "\n",
      "Wear a t-shirt and sunscreen\n"
     ]
    }
   ],
   "source": [
    "# [ ] review WHAT TO WEAR code then run testing different inputs\n",
    "while True:\n",
    "    weather = input(\"Enter weather (sunny, rainy, snowy, or quit): \") \n",
    "    print()\n",
    "\n",
    "    if weather.lower() == \"sunny\":\n",
    "        print(\"Wear a t-shirt and sunscreen\")\n",
    "        break\n",
    "    elif weather.lower() == \"rainy\":\n",
    "        print(\"Bring an umbrella and boots\")\n",
    "        break\n",
    "    elif weather.lower() == \"snowy\":\n",
    "        print(\"Wear a warm coat and hat\")\n",
    "        break\n",
    "    elif weather.lower().startswith(\"q\"):\n",
    "        print('\"quit\" detected, exiting')\n",
    "        break\n",
    "    else:\n",
    "        print(\"Sorry, not sure what to suggest for\", weather +\"\\n\")"
   ]
  },
  {
   "cell_type": "markdown",
   "metadata": {},
   "source": [
    "# Code: Seat Type "
   ]
  },
  {
   "cell_type": "code",
   "execution_count": 22,
   "metadata": {},
   "outputs": [
    {
     "name": "stdout",
     "output_type": "stream",
     "text": [
      "enter seat type of \"hard\",\"soft\" or \"exit\" (to finish): hard\n",
      "enter seat type of \"hard\",\"soft\" or \"exit\" (to finish): soft\n",
      "enter seat type of \"hard\",\"soft\" or \"exit\" (to finish): exit\n",
      "\n",
      "2 Seats Total:  1 hard and 1 soft\n"
     ]
    }
   ],
   "source": [
    "# [ ] review the SEAT TYPE COUNT code then run entering: hard, soft, medium and exit\n",
    "\n",
    "# initialize variables\n",
    "seat_count = 0\n",
    "soft_seats = 0\n",
    "hard_seats = 0\n",
    "num_seats = 4\n",
    "\n",
    "# loops tallying seats using soft pads vs hard, until seats full or user \"exits\"\n",
    "while True:\n",
    "    seat_type = input('enter seat type of \"hard\",\"soft\" or \"exit\" (to finish): ')\n",
    "    \n",
    "    if seat_type.lower().startswith(\"e\"):\n",
    "        print()\n",
    "        break\n",
    "    elif seat_type.lower() == \"hard\":\n",
    "        hard_seats += 1\n",
    "    elif seat_type.lower() == \"soft\":\n",
    "        soft_seats += 1\n",
    "    else:\n",
    "        print(\"invalid entry: counted as hard\")\n",
    "        hard_seats += 1  \n",
    "    seat_count += 1\n",
    "    if seat_count >= num_seats:\n",
    "        print(\"\\nseats are full\")\n",
    "        break\n",
    "        \n",
    "print(seat_count,\"Seats Total: \",hard_seats,\"hard and\",soft_seats,\"soft\" )"
   ]
  },
  {
   "cell_type": "code",
   "execution_count": 23,
   "metadata": {},
   "outputs": [
    {
     "name": "stdout",
     "output_type": "stream",
     "text": [
      "Enter the type of seat 'hard' 'soft' or 'exit' :hard\n",
      "Enter the type of seat 'hard' 'soft' or 'exit' :hard\n",
      "Enter the type of seat 'hard' 'soft' or 'exit' :soft\n",
      "Enter the type of seat 'hard' 'soft' or 'exit' :exit\n",
      "Seat Total: 3 Hard : 2 Soft : 1\n"
     ]
    }
   ],
   "source": [
    "seat = 0\n",
    "hard = 0\n",
    "soft = 0\n",
    "total = 8\n",
    "\n",
    "while True:\n",
    "    type = input(\"Enter the type of seat 'hard' 'soft' or 'exit' :\")\n",
    "    if type == \"exit\":\n",
    "        break\n",
    "    elif type == \"hard\":\n",
    "        hard += 1\n",
    "    elif type == \"soft\":\n",
    "        soft += 1\n",
    "    else:\n",
    "        print(\"counted as hard\")\n",
    "        hard += 1\n",
    "    seat += 1\n",
    "    if seat >= total:\n",
    "        print(\"seats are full\")\n",
    "        break\n",
    "\n",
    "print(\"Seat Total:\",seat,\"Hard :\",hard,\"Soft :\",soft)"
   ]
  },
  {
   "cell_type": "markdown",
   "metadata": {},
   "source": [
    "# Code: Shirt Count"
   ]
  },
  {
   "cell_type": "code",
   "execution_count": 24,
   "metadata": {},
   "outputs": [
    {
     "name": "stdout",
     "output_type": "stream",
     "text": [
      "Enter the type of shirt you want? Small aka 'S', Medium aka 'M',Large aka 'L' or exit aka 'E' :s\n",
      "Enter the type of shirt you want? Small aka 'S', Medium aka 'M',Large aka 'L' or exit aka 'E' :m\n",
      "Enter the type of shirt you want? Small aka 'S', Medium aka 'M',Large aka 'L' or exit aka 'E' :l\n",
      "Enter the type of shirt you want? Small aka 'S', Medium aka 'M',Large aka 'L' or exit aka 'E' :e\n",
      "Size Total= 3 1 Small : 1 Medium : 1 Large\n"
     ]
    }
   ],
   "source": [
    "# [ ] Create the Shirt Count program, run tests\n",
    "\n",
    "small = 0\n",
    "medium = 0\n",
    "large = 0\n",
    "others = 0\n",
    "size_tot = 0\n",
    "while True:\n",
    "    size = input(\"Enter the type of shirt you want? Small aka 'S', Medium aka 'M',Large aka 'L' or exit aka 'E' :\").upper()\n",
    "    \n",
    "    if size.startswith('E'):\n",
    "        break\n",
    "    elif size == \"S\":\n",
    "        small += 1\n",
    "    elif size == \"M\":\n",
    "        medium += 1\n",
    "    elif size == \"L\":\n",
    "        large += 1\n",
    "    else:\n",
    "        print(\"counted as others\")\n",
    "        others += 1\n",
    "    size_tot += 1\n",
    "\n",
    "print(\"Size Total=\",small+medium+large,small,\"Small :\",medium,\"Medium :\",large,\"Large\")\n"
   ]
  },
  {
   "cell_type": "markdown",
   "metadata": {},
   "source": [
    "# Code: Shirt Register"
   ]
  },
  {
   "cell_type": "code",
   "execution_count": 25,
   "metadata": {},
   "outputs": [
    {
     "name": "stdout",
     "output_type": "stream",
     "text": [
      "Enter the type of shirt you want? Small aka 'S', Medium aka 'M',Large aka 'L' or exit aka 'E' :s\n",
      "Enter the type of shirt you want? Small aka 'S', Medium aka 'M',Large aka 'L' or exit aka 'E' :m\n",
      "Enter the type of shirt you want? Small aka 'S', Medium aka 'M',Large aka 'L' or exit aka 'E' :l\n",
      "Enter the type of shirt you want? Small aka 'S', Medium aka 'M',Large aka 'L' or exit aka 'E' :s\n",
      "Enter the type of shirt you want? Small aka 'S', Medium aka 'M',Large aka 'L' or exit aka 'E' :l\n",
      "Enter the type of shirt you want? Small aka 'S', Medium aka 'M',Large aka 'L' or exit aka 'E' :e\n",
      "Size Total= 5 Cost Total:$ 35 Small : 2 Small Price :$ 12 Medium : 1 Medium Price :$ 7 Large 2 Large Price :$ 16 Others:  0\n"
     ]
    }
   ],
   "source": [
    "# [ ] Create the Shirt Register program, run tests\n",
    "s = 0\n",
    "s_c = 6\n",
    "m = 0\n",
    "m_c = 7\n",
    "l = 0\n",
    "l_c = 8\n",
    "o = 0\n",
    "s_tot = 0\n",
    "\n",
    "while True:\n",
    "    size = input(\"Enter the type of shirt you want? Small aka 'S', Medium aka 'M',Large aka 'L' or exit aka 'E' :\").upper()\n",
    "    \n",
    "    if size.startswith('E'):\n",
    "        break\n",
    "    elif size == \"S\":\n",
    "        s += 1\n",
    "        s_p = s * s_c\n",
    "    elif size == \"M\":\n",
    "        m += 1\n",
    "        m_p = m * m_c\n",
    "    elif size == \"L\":\n",
    "        l += 1\n",
    "        l_p = l * l_c\n",
    "    else:\n",
    "        print(\"counted as others\")\n",
    "        o += 1\n",
    "    s_tot += 1\n",
    "\n",
    "print(\"Size Total=\",s_tot,\"Cost Total:$\",s_p+m_p+l_p,\"Small :\",s,\"Small Price :$\",s_p,\"Medium :\",m,\"Medium Price :$\",m_p,\"Large\",l,\"Large Price :$\",l_p,\"Others: \",o)\n"
   ]
  },
  {
   "cell_type": "markdown",
   "metadata": {},
   "source": [
    "# while with boolean"
   ]
  },
  {
   "cell_type": "code",
   "execution_count": 26,
   "metadata": {},
   "outputs": [
    {
     "name": "stdout",
     "output_type": "stream",
     "text": [
      "5 !\n",
      "4 !\n",
      "3 !\n",
      "2 !\n",
      "1 !\n",
      "\n",
      "IGNITION!\n"
     ]
    }
   ],
   "source": [
    "# review and run GREET COUNT\n",
    "greet_count = 5\n",
    "\n",
    "# loop while count is greater than 0\n",
    "while greet_count > 0:\n",
    "    print(greet_count, \"!\")\n",
    "    greet_count -= 1\n",
    "print(\"\\nIGNITION!\")"
   ]
  },
  {
   "cell_type": "code",
   "execution_count": 27,
   "metadata": {},
   "outputs": [
    {
     "name": "stdout",
     "output_type": "stream",
     "text": [
      "Enter animal name: cat\n",
      "Enter animal name: rat\n",
      "Enter animal name: rabbit\n",
      "Enter animal name: bat\n",
      "All animal Names: cat,rat,rabbit,bat\n"
     ]
    }
   ],
   "source": [
    "# [ ] Create the Animal Names program, run tests\n",
    "num_animals = 0\n",
    "all_animals = \"\"\n",
    "while num_animals < 4:\n",
    "    animal_name = input(\"Enter animal name: \")\n",
    "    all_animals += animal_name\n",
    "    if num_animals != 3:\n",
    "        all_animals += \",\"\n",
    "    num_animals += 1\n",
    "print(\"All animal Names:\",all_animals)\n"
   ]
  }
 ],
 "metadata": {
  "kernelspec": {
   "display_name": "Python 3",
   "language": "python",
   "name": "python3"
  },
  "language_info": {
   "codemirror_mode": {
    "name": "ipython",
    "version": 3
   },
   "file_extension": ".py",
   "mimetype": "text/x-python",
   "name": "python",
   "nbconvert_exporter": "python",
   "pygments_lexer": "ipython3",
   "version": "3.6.5"
  }
 },
 "nbformat": 4,
 "nbformat_minor": 2
}
