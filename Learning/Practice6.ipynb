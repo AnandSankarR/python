{
 "cells": [
  {
   "cell_type": "markdown",
   "metadata": {},
   "source": [
    "## conditionals, type, and mathematics extended   "
   ]
  },
  {
   "cell_type": "markdown",
   "metadata": {},
   "source": [
    "# &nbsp;  \n",
    "<font size=\"6\" color=\"#B24C00\"  face=\"verdana\"> <B>Tasks</B></font>"
   ]
  },
  {
   "cell_type": "markdown",
   "metadata": {},
   "source": [
    "### Rainbow colors"
   ]
  },
  {
   "cell_type": "code",
   "execution_count": 2,
   "metadata": {},
   "outputs": [
    {
     "name": "stdout",
     "output_type": "stream",
     "text": [
      "enter your fav Rainbow color first letter from ROYGBIV:R\n",
      "R=Red\n"
     ]
    }
   ],
   "source": [
    "# [ ] complete rainbow colors\n",
    "color = input(\"enter your fav Rainbow color first letter from ROYGBIV:\").upper()\n",
    "\n",
    "\n",
    "if color == \"R\":\n",
    "    print(\"R=Red\")\n",
    "elif color == \"O\":\n",
    "    print(\"O=Orange\")\n",
    "elif color == \"Y\":\n",
    "    print(\"Y=Yellow\")\n",
    "elif color == \"G\":\n",
    "    print(\"G=Green\")\n",
    "elif color == \"B\":\n",
    "    print(\"B=Blue\")\n",
    "elif color == \"I\":\n",
    "    print(\"I=Indigo\")\n",
    "elif color == \"V\":\n",
    "    print(\"V=Violet\")\n",
    "else:\n",
    "    print(\"no match\")\n"
   ]
  },
  {
   "cell_type": "code",
   "execution_count": 3,
   "metadata": {},
   "outputs": [
    {
     "name": "stdout",
     "output_type": "stream",
     "text": [
      "Enter Fav Color First letter:e\n",
      "no match\n",
      "Fav Color\n"
     ]
    }
   ],
   "source": [
    "# [ ] make the code above into a function rainbow_color() that has a string parameter, \n",
    "# get input and call the function and return the matching color as a string or \"no match\" message.\n",
    "# Call the function and print the return string.\n",
    "def rainbow_color(string):\n",
    "    if string == \"R\":\n",
    "        print(\"R=Red\")\n",
    "    elif string == \"O\":\n",
    "        print(\"O=Orange\")\n",
    "    elif string == \"Y\":\n",
    "        print(\"Y=Yellow\")\n",
    "    elif string == \"G\":\n",
    "        print(\"G=Green\")\n",
    "    elif string == \"B\":\n",
    "        print(\"B=Blue\")\n",
    "    elif string == \"I\":\n",
    "        print(\"I=Indigo\")\n",
    "    elif string == \"V\":\n",
    "        print(\"V=Violet\")\n",
    "    else:\n",
    "        print(\"no match\")\n",
    "    return \"Fav Color\"\n",
    "print(rainbow_color(input(\"Enter Fav Color First letter:\").upper()))\n"
   ]
  },
  {
   "cell_type": "markdown",
   "metadata": {},
   "source": [
    "  \n",
    "**Create function age_20() that adds or subtracts 20 from your age for a return value based on current age**\n"
   ]
  },
  {
   "cell_type": "code",
   "execution_count": 1,
   "metadata": {},
   "outputs": [
    {
     "name": "stdout",
     "output_type": "stream",
     "text": [
      "enter the current age bw 1-100:100\n",
      "80 years old, 20 years difference from now\n",
      "None\n"
     ]
    }
   ],
   "source": [
    "# [ ] complete age_20()\n",
    "def age_20(c_age):\n",
    "    if c_age > 20:\n",
    "        diff = c_age - 20\n",
    "        print(diff,\"years old\"\",\",\"20 years difference from now\")\n",
    "    elif c_age < 20:\n",
    "        add = c_age + 20\n",
    "        print(add,\"years old\"\",\",\"20 years added from now\")\n",
    "    else:\n",
    "        print(\"Entered not a number\")\n",
    "    return \n",
    "print(age_20(int(input(\"enter the current age bw 1-100:\"))))"
   ]
  },
  {
   "cell_type": "markdown",
   "metadata": {},
   "source": [
    "**create a function rainbow_or_age that takes a string argument**"
   ]
  },
  {
   "cell_type": "code",
   "execution_count": 4,
   "metadata": {},
   "outputs": [
    {
     "name": "stdout",
     "output_type": "stream",
     "text": [
      "Enter the String:e\n",
      "no match\n",
      "Rainbow or Age Completed\n"
     ]
    }
   ],
   "source": [
    "# [ ]  create rainbow_or_age()\n",
    "def rainbow_or_age(age):\n",
    "    if age.isdigit() == True:\n",
    "        age = int(age)\n",
    "        age_20(age)\n",
    "    elif age.isalpha() == True:\n",
    "        rainbow_color(age)\n",
    "    else:\n",
    "        print(\"False\")\n",
    "    return \"Rainbow or Age Completed\"\n",
    "print(rainbow_or_age(input(\"Enter the String:\").upper()))"
   ]
  },
  {
   "cell_type": "code",
   "execution_count": 7,
   "metadata": {},
   "outputs": [
    {
     "name": "stdout",
     "output_type": "stream",
     "text": [
      "Enter n1:4\n",
      "Enter n2:3\n",
      "total = 7\n"
     ]
    }
   ],
   "source": [
    "# [ ]  add 2 numbers from input using a cast to integer and display the answer \n",
    "n1 = int(input(\"Enter n1:\"))\n",
    "n2 = int(input(\"Enter n2:\"))\n",
    "print(\"total =\",n1+n2)\n"
   ]
  },
  {
   "cell_type": "code",
   "execution_count": 5,
   "metadata": {},
   "outputs": [
    {
     "name": "stdout",
     "output_type": "stream",
     "text": [
      "Enter n1:1\n",
      "Enter n2:2\n",
      "total = 2\n"
     ]
    }
   ],
   "source": [
    "# [ ] Multiply 2 numbers from input using cast and save the answer as part of a string \"the answer is...\"\n",
    "# display the string using print\n",
    "\n",
    "n1 = input(\"Enter n1:\")\n",
    "if n1.isdigit() == True:\n",
    "    n1 = int(n1)\n",
    "    n2 = input(\"Enter n2:\")\n",
    "if n2.isdigit() == True:\n",
    "    print(\"total =\",n1*n2)\n",
    "else:\n",
    "    print(\"Enter the numbers \")"
   ]
  },
  {
   "cell_type": "code",
   "execution_count": 6,
   "metadata": {},
   "outputs": [
    {
     "name": "stdout",
     "output_type": "stream",
     "text": [
      "Enter n1:1\n",
      "Enter n2:3\n",
      "total = 2.0\n"
     ]
    }
   ],
   "source": [
    "# [ ] get input of 2 numbers and display the average: (num1 + num2) divided by 2\n",
    "n1 = input(\"Enter n1:\")\n",
    "if n1.isdigit() == True:\n",
    "    n1 = float(n1)\n",
    "    n2 = input(\"Enter n2:\")\n",
    "if n2.isdigit() == True:\n",
    "    n2 = float(n2)\n",
    "    print(\"total =\",float((n1+n2)/2))\n",
    "else:\n",
    "    print(\"Enter the numbers \")\n"
   ]
  },
  {
   "cell_type": "code",
   "execution_count": 7,
   "metadata": {},
   "outputs": [
    {
     "name": "stdout",
     "output_type": "stream",
     "text": [
      "Enter n1:1\n",
      "1\n",
      "Enter n2:2\n",
      "Answer: 1\n"
     ]
    }
   ],
   "source": [
    "# [ ] get input of 2 numbers and subtract the largest from the smallest (use an if statement to see which is larger)\n",
    "# show the answer\n",
    "n1 = input(\"Enter n1:\")\n",
    "print(n1)\n",
    "if n1.isdigit() == True:\n",
    "    n1 = int(n1)\n",
    "    n2 = input(\"Enter n2:\")\n",
    "if n2.isdigit() == True:\n",
    "    n2 = int(n2)\n",
    "    if n1 > n2:\n",
    "        n = n1-n2\n",
    "        print(\"Answer:\",n)\n",
    "    else:\n",
    "        n = n2 - n1\n",
    "        print(\"Answer:\",n)\n",
    "else:\n",
    "    print(\"Enter in Numbers\")\n",
    "        \n"
   ]
  },
  {
   "cell_type": "code",
   "execution_count": 11,
   "metadata": {
    "scrolled": true
   },
   "outputs": [
    {
     "name": "stdout",
     "output_type": "stream",
     "text": [
      "Enter n1:3\n",
      "Enter n2:2\n",
      "Answer: 1\n"
     ]
    }
   ],
   "source": [
    "# [ ] Divide a larger number by a smaller number and print the integer part of the result\n",
    "# don't divide by zero! if a zero is input make the result zero\n",
    "# [ ] cast the answer to an integer to cut off the decimals and print the result\n",
    "n1 = input(\"Enter n1:\")\n",
    "if n1.isdigit() == True or n1!= 0:\n",
    "    n1 = int(n1)\n",
    "    n2 = input(\"Enter n2:\")\n",
    "else:\n",
    "    enter(\"Enter n1 in digits or more than zero\")\n",
    "if n2.isdigit() == True or n2!= 0:\n",
    "    n2 = int(n2)\n",
    "    if n1 > n2:\n",
    "        n = n1/n2\n",
    "        print(\"Answer:\",int(n))\n",
    "    else:\n",
    "        n = n2/n1\n",
    "        print(\"Answer:\",int(n))\n",
    "else:\n",
    "    print(\"Enter n2 in digits or more than zero\")\n"
   ]
  },
  {
   "cell_type": "markdown",
   "metadata": {},
   "source": []
  }
 ],
 "metadata": {
  "anaconda-cloud": {},
  "kernelspec": {
   "display_name": "Python 3",
   "language": "python",
   "name": "python3"
  },
  "language_info": {
   "codemirror_mode": {
    "name": "ipython",
    "version": 3
   },
   "file_extension": ".py",
   "mimetype": "text/x-python",
   "name": "python",
   "nbconvert_exporter": "python",
   "pygments_lexer": "ipython3",
   "version": "3.6.5"
  }
 },
 "nbformat": 4,
 "nbformat_minor": 1
}
